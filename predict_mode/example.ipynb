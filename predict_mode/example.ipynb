{
 "cells": [
  {
   "cell_type": "markdown",
   "metadata": {},
   "source": [
    "# Predicting Post-click Engagement Modes in Online News \n",
    "\n",
    "This notebook provides an example for using the trained Gaussian Mixture Model from [1] for identifying post-click engagement modes. If you end up using this model, please cite the work below.\n",
    "\n",
    "[1] Nir Grinberg. 2018. Identifying Modes of User Engagement with Online News and Their Relationship to Information Gain in Text. In WWW 2018: The 2018 Web Conference, April 23–27, 2018, Lyon, France. ACM, New York, NY, USA, 10 pages. https://doi.org/https://doi.org/10.1145/3178876.3186180"
   ]
  },
  {
   "cell_type": "code",
   "execution_count": 1,
   "metadata": {
    "collapsed": true
   },
   "outputs": [],
   "source": [
    "import numpy as np\n",
    "import cPickle\n",
    "from sklearn import mixture"
   ]
  },
  {
   "cell_type": "code",
   "execution_count": 2,
   "metadata": {
    "collapsed": true
   },
   "outputs": [],
   "source": [
    "# input: an N by 6 matrix of post-click engagement summaries. N=5 in the example below. \n",
    "# The columns are Depth (px), Dwell Time (sec), Active Engagement (sec), \n",
    "# Relative Depth (fraction), Speed (px/min), Normalized Engagement (sec).\n",
    "# Notice that bounce backs (defined as <10 secs dwell time) were separated out prior to clustering, \n",
    "# so you may want to \"hard assign\" such engagements to a separate cluster as done in the paper. \n",
    "eng_data_raw = np.array(\n",
    "    [[   2970.0,   202.66,   1.11,   2.84,   872.1 ,   759.08],\n",
    "     [   5245.0,   159.9 ,   1.01,   3.56,  1963.57,   435.55],\n",
    "     [   2463.0,    81.14,   0.29,   1.14,  1806.78,   130.6 ],\n",
    "     [   4211.0,    16.75,   0.13,   0.96, 14971.21,    19.97],\n",
    "     [   1063.0,   368.65,   0.06,   0.39,   173.85,    23.76]])\n",
    "eng_data = eng_data_raw\n",
    "eng_data[:,0] /= 100 # the model was trained on Depth in units of 100 pixels\n",
    "eng_data[:,2] *= 100 # the model was trained on Rel. Depth in 0-100 percent\n",
    "eng_data = np.log2(1+eng_data)"
   ]
  },
  {
   "cell_type": "code",
   "execution_count": 3,
   "metadata": {},
   "outputs": [
    {
     "name": "stderr",
     "output_type": "stream",
     "text": [
      "/Users/nirg/anaconda2/lib/python2.7/site-packages/sklearn/base.py:311: UserWarning: Trying to unpickle estimator GaussianMixture from version 0.18.1 when using version 0.19.1. This might lead to breaking code or invalid results. Use at your own risk.\n",
      "  UserWarning)\n"
     ]
    }
   ],
   "source": [
    "# load trained model\n",
    "with open('reads_balanced_gmm.pickle', \"rb\") as f_in:\n",
    "    gmm = cPickle.load(f_in)"
   ]
  },
  {
   "cell_type": "code",
   "execution_count": 4,
   "metadata": {
    "collapsed": true
   },
   "outputs": [],
   "source": [
    "# helper function for pretty printing numbers\n",
    "import contextlib\n",
    "\n",
    "@contextlib.contextmanager\n",
    "def printoptions(*args, **kwargs):\n",
    "    original = np.get_printoptions()\n",
    "    np.set_printoptions(*args, **kwargs)\n",
    "    try:\n",
    "        yield\n",
    "    finally: \n",
    "        np.set_printoptions(**original)"
   ]
  },
  {
   "cell_type": "code",
   "execution_count": 5,
   "metadata": {},
   "outputs": [
    {
     "data": {
      "text/plain": [
       "array([0, 2, 0, 4, 3])"
      ]
     },
     "execution_count": 5,
     "metadata": {},
     "output_type": "execute_result"
    }
   ],
   "source": [
    "# predict hard assigments for each session summary\n",
    "gmm.predict(eng_data)"
   ]
  },
  {
   "cell_type": "code",
   "execution_count": 6,
   "metadata": {},
   "outputs": [
    {
     "data": {
      "text/plain": [
       "array([[7.73079589e-01, 2.69841151e-07, 6.43879378e-06, 2.26913702e-01,\n",
       "        1.64301757e-13],\n",
       "       [2.11651698e-07, 1.34451227e-10, 9.99915098e-01, 8.46902179e-05,\n",
       "        4.36043107e-10],\n",
       "       [8.01730666e-01, 1.65471885e-06, 4.79008473e-08, 1.85134265e-01,\n",
       "        1.31333660e-02],\n",
       "       [6.81120337e-12, 7.92945164e-10, 1.20250439e-36, 9.16894408e-07,\n",
       "        9.99999082e-01],\n",
       "       [3.88501462e-04, 6.92884242e-04, 3.65064903e-59, 9.98918614e-01,\n",
       "        1.51767890e-42]])"
      ]
     },
     "execution_count": 6,
     "metadata": {},
     "output_type": "execute_result"
    }
   ],
   "source": [
    "# get posterior probabilities\n",
    "gmm.predict_proba(eng_data)"
   ]
  },
  {
   "cell_type": "code",
   "execution_count": 7,
   "metadata": {},
   "outputs": [
    {
     "name": "stdout",
     "output_type": "stream",
     "text": [
      "[[0.77 0.   0.   0.23 0.  ]\n",
      " [0.   0.   1.   0.   0.  ]\n",
      " [0.8  0.   0.   0.19 0.01]\n",
      " [0.   0.   0.   0.   1.  ]\n",
      " [0.   0.   0.   1.   0.  ]]\n"
     ]
    }
   ],
   "source": [
    "# same as above, just fewer digits\n",
    "with printoptions(precision=2, suppress=True):\n",
    "    print(gmm.predict_proba(eng_data))"
   ]
  },
  {
   "cell_type": "markdown",
   "metadata": {},
   "source": [
    "One can see that the hard assignment assigned each engagement summary to the most probable mode in this case"
   ]
  },
  {
   "cell_type": "code",
   "execution_count": 8,
   "metadata": {},
   "outputs": [
    {
     "name": "stdout",
     "output_type": "stream",
     "text": [
      "[[  23.85   87.87   30.46    1.1  1628.72   86.17]\n",
      " [   6.56  647.42    8.14    0.37   50.58    9.6 ]\n",
      " [  60.38  226.99   79.21    1.68 1596.82  134.03]\n",
      " [  18.24  398.92   15.42    0.94  273.76   43.42]\n",
      " [  23.05   24.31   13.24    1.06 5671.11   37.54]]\n"
     ]
    }
   ],
   "source": [
    "# Let's look at the cluster means. \n",
    "# Each row is a cluster mean in pre-log space with depth (first column) in units of 100 pixels\n",
    "with printoptions(precision=2, suppress=True):\n",
    "    print(2**gmm.means_-1)"
   ]
  },
  {
   "cell_type": "markdown",
   "metadata": {},
   "source": [
    "The paper reorders these for ease of exposition as 2 (read), 5 (shallow), 3 (read long), 4 (idle), 1 (scan)"
   ]
  },
  {
   "cell_type": "code",
   "execution_count": 9,
   "metadata": {},
   "outputs": [
    {
     "name": "stdout",
     "output_type": "stream",
     "text": [
      "[[ 0.19  0.15  0.22  0.04  0.04  0.11]\n",
      " [ 0.15  0.67  0.38  0.02 -0.52  0.29]\n",
      " [ 0.22  0.38  1.05  0.04 -0.16  0.88]\n",
      " [ 0.04  0.02  0.04  0.11  0.02  0.25]\n",
      " [ 0.04 -0.52 -0.16  0.02  0.57 -0.18]\n",
      " [ 0.11  0.29  0.88  0.25 -0.18  1.46]]\n",
      "[[ 1.48  2.26  0.87  0.35  0.3   0.82]\n",
      " [ 2.26 11.78  0.93  0.47 -7.78  2.89]\n",
      " [ 0.87  0.93  2.29  0.3   0.21  1.85]\n",
      " [ 0.35  0.47  0.3   0.16  0.07  0.37]\n",
      " [ 0.3  -7.78  0.21  0.07  9.51 -0.88]\n",
      " [ 0.82  2.89  1.85  0.37 -0.88  4.85]]\n",
      "[[ 0.36  0.27  0.31  0.12  0.09  0.12]\n",
      " [ 0.27  1.43  0.76  0.06 -1.16  0.56]\n",
      " [ 0.31  0.76  1.21  0.08 -0.45  0.97]\n",
      " [ 0.12  0.06  0.08  0.32  0.06  0.42]\n",
      " [ 0.09 -1.16 -0.45  0.06  1.25 -0.44]\n",
      " [ 0.12  0.56  0.97  0.42 -0.44  1.6 ]]\n",
      "[[ 0.95  1.5   0.87  0.2  -0.5   0.47]\n",
      " [ 1.5   5.8   2.16  0.29 -4.22  1.57]\n",
      " [ 0.87  2.16  2.99  0.19 -1.25  2.73]\n",
      " [ 0.2   0.29  0.19  0.19 -0.08  0.43]\n",
      " [-0.5  -4.22 -1.25 -0.08  3.68 -1.07]\n",
      " [ 0.47  1.57  2.73  0.43 -1.07  3.65]]\n",
      "[[ 0.63  0.2   0.3   0.12  0.45 -0.05]\n",
      " [ 0.2   0.36  0.32  0.05 -0.17  0.22]\n",
      " [ 0.3   0.32  0.78  0.08 -0.02  0.69]\n",
      " [ 0.12  0.05  0.08  0.17  0.08  0.31]\n",
      " [ 0.45 -0.17 -0.02  0.08  0.65 -0.28]\n",
      " [-0.05  0.22  0.69  0.31 -0.28  1.6 ]]\n"
     ]
    }
   ],
   "source": [
    "# For complition, let's print the covariance matrices:\n",
    "for cov in gmm.covariances_:\n",
    "    print np.around(cov,decimals=2)"
   ]
  }
 ],
 "metadata": {
  "kernelspec": {
   "display_name": "Python 2",
   "language": "python",
   "name": "python2"
  },
  "language_info": {
   "codemirror_mode": {
    "name": "ipython",
    "version": 2
   },
   "file_extension": ".py",
   "mimetype": "text/x-python",
   "name": "python",
   "nbconvert_exporter": "python",
   "pygments_lexer": "ipython2",
   "version": "2.7.14"
  }
 },
 "nbformat": 4,
 "nbformat_minor": 2
}
